{
 "cells": [
  {
   "cell_type": "markdown",
   "id": "97e1eee7",
   "metadata": {
    "toc": true
   },
   "source": [
    "<h1>Table of Contents<span class=\"tocSkip\"></span></h1>\n",
    "<div class=\"toc\"><ul class=\"toc-item\"></ul></div>"
   ]
  },
  {
   "cell_type": "code",
   "execution_count": 2,
   "id": "6b31aee2",
   "metadata": {
    "ExecuteTime": {
     "end_time": "2025-03-05T02:56:02.178904Z",
     "start_time": "2025-03-05T02:56:02.174161Z"
    }
   },
   "outputs": [],
   "source": [
    "import numpy as np\n",
    "import matplotlib.pyplot as plt\n",
    "import sys\n",
    "sys.path.append(\"/home/mck74/code/spt3g_software/build/\")\n",
    "import spt3g\n",
    "from spt3g import maps, core,sources\n",
    "from spt3g.beams import beam_analysis as beam_mod\n",
    "from spt3g import simulations\n",
    "from spt3g.simulations import quick_flatsky_routines\n",
    "\n",
    "sys.path.append('/home/kaylank/megaclusters/spt_cluster/clusterfinder/')\n",
    "import clusterfunctions as clu\n",
    "import pandas as pd\n",
    "import scipy.ndimage as ndimage"
   ]
  },
  {
   "cell_type": "code",
   "execution_count": null,
   "id": "83fa45bc",
   "metadata": {
    "ExecuteTime": {
     "start_time": "2025-03-04T06:02:28.760Z"
    }
   },
   "outputs": [],
   "source": [
    "!python step1_create_sims.py -paramfile params.ini "
   ]
  },
  {
   "cell_type": "code",
   "execution_count": null,
   "id": "77138b7e",
   "metadata": {
    "ExecuteTime": {
     "end_time": "2025-03-04T06:25:32.493558Z",
     "start_time": "2025-03-04T06:12:34.180295Z"
    },
    "scrolled": true
   },
   "outputs": [],
   "source": [
    "!python step1_create_sims.py -paramfile params.ini -fields '3g90' '3g150' -end 1 -clusters_or_randoms randoms -random_seed_for_sims 549\n"
   ]
  },
  {
   "cell_type": "code",
   "execution_count": null,
   "id": "25a69d70",
   "metadata": {
    "ExecuteTime": {
     "end_time": "2025-03-04T06:25:34.647069Z",
     "start_time": "2025-03-04T06:25:32.500450Z"
    },
    "scrolled": true
   },
   "outputs": [],
   "source": [
    "!python step2_gen_models.py -fields '3g90' '3g150' -random_seed_for_models 0 -delM 0.3 -maxM 3 -dataset_fname /sptlocal/user/kaylank/cmb_cluster_lensing_testing/cmb_only/3g903g150/10am_stack/no_foregrounds/total_clusters_3000/total_randoms_30000/sim_dict.pkl\n",
    "\n",
    "\n"
   ]
  },
  {
   "cell_type": "code",
   "execution_count": null,
   "id": "dff32df2",
   "metadata": {
    "ExecuteTime": {
     "end_time": "2025-03-04T05:57:57.037240Z",
     "start_time": "2025-03-04T05:57:15.614702Z"
    },
    "scrolled": true
   },
   "outputs": [],
   "source": [
    "!python step3_get_likelihoods.py -dataset_fname /sptlocal/user/kaylank/cmb_cluster_lensing_testing/cmb_only/3g150/10am_stack/no_foregrounds/total_clusters_3000/total_randoms_30000/sim_dict.pkl\n",
    "\n"
   ]
  },
  {
   "cell_type": "code",
   "execution_count": null,
   "id": "f38319f3",
   "metadata": {
    "ExecuteTime": {
     "end_time": "2025-03-04T05:59:52.424959Z",
     "start_time": "2025-03-04T05:59:52.298064Z"
    }
   },
   "outputs": [],
   "source": [
    "!ls /sptlocal/user/kaylank/cmb_cluster_lensing_testing/cmb_only/3g150/10am_stack/no_foregrounds/total_clusters_3000/total_randoms_30000/"
   ]
  },
  {
   "cell_type": "code",
   "execution_count": null,
   "id": "98a98782",
   "metadata": {
    "ExecuteTime": {
     "end_time": "2025-03-04T06:00:26.143687Z",
     "start_time": "2025-03-04T06:00:25.817103Z"
    }
   },
   "outputs": [],
   "source": [
    "model = np.load('/sptlocal/user/kaylank/cmb_cluster_lensing_testing/cmb_only/3g150/10am_stack/no_foregrounds/total_clusters_3000/total_randoms_30000/cluster_mass_2.0_cluster_redshift_0.7.npy',\n",
    "               allow_pickle=True).item()\n",
    "\n",
    "sim_dict = clu.pkl('/sptlocal/user/kaylank/cmb_cluster_lensing_testing/cmb_only/3g150/10am_stack/no_foregrounds/total_clusters_3000/total_randoms_30000/sim_dict.pkl')\n",
    "\n"
   ]
  },
  {
   "cell_type": "code",
   "execution_count": null,
   "id": "429dd882",
   "metadata": {
    "ExecuteTime": {
     "end_time": "2025-03-04T05:59:03.881551Z",
     "start_time": "2025-03-04T05:59:03.684576Z"
    },
    "code_folding": []
   },
   "outputs": [],
   "source": [
    "def display_image(image_path):\n",
    "    import matplotlib.pyplot as plt\n",
    "    import matplotlib.image as mpimg\n",
    "    img = mpimg.imread(image_path)\n",
    "    plt.figure(figsize=(8,8))  \n",
    "    plt.imshow(img)\n",
    "    plt.axis('off') \n",
    "    plt.show()\n",
    "    \n",
    "img_path = '/sptlocal/user/kaylank/cmb_cluster_lensing_testing/cmb_only/3g150/10am_stack/no_foregrounds/total_clusters_3000/total_randoms_30000/plots/3000clusters_beam1_noise2_T_nofg_dict.pkl.png'\n",
    "display_image(img_path)\n",
    "\n",
    "\n"
   ]
  },
  {
   "cell_type": "code",
   "execution_count": null,
   "id": "fa89c927",
   "metadata": {},
   "outputs": [],
   "source": []
  }
 ],
 "metadata": {
  "kernelspec": {
   "display_name": "Python 3 (v4)",
   "language": "python",
   "name": "py3-v4"
  },
  "language_info": {
   "codemirror_mode": {
    "name": "ipython",
    "version": 3
   },
   "file_extension": ".py",
   "mimetype": "text/x-python",
   "name": "python",
   "nbconvert_exporter": "python",
   "pygments_lexer": "ipython3",
   "version": "3.10.1"
  },
  "toc": {
   "base_numbering": 1,
   "nav_menu": {},
   "number_sections": true,
   "sideBar": true,
   "skip_h1_title": false,
   "title_cell": "Table of Contents",
   "title_sidebar": "Contents",
   "toc_cell": true,
   "toc_position": {},
   "toc_section_display": true,
   "toc_window_display": false
  }
 },
 "nbformat": 4,
 "nbformat_minor": 5
}
